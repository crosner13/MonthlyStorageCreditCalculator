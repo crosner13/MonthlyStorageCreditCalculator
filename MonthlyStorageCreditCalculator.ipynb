{
 "cells": [
  {
   "cell_type": "markdown",
   "metadata": {},
   "source": [
    "\n",
    "## Welcome to the IDWR Storage Credit Use Tracker\n",
    "\n",
    "This Notebook is used to __estimate__ the amount of storage credits consumed per month by individual items or all items owned by a user. This calculator takes a snapshot of an item or a user's items at runtime and estimates the cost in credits to store each item per month. It cannot account for items that change size. \n",
    "\n",
    "This calculator assumes that hosted feature layer __views__ are assigned a storage cost of 0 credits. This is because technically, Esri does not charge for the hosting of feature layer views, since the underlying data actually belongs to the hosted feature layer from which the view was created. The views have a size of 0 Bytes, but the ArcGIS API for Python functions read the hosted feature layer's attachments as if they belong to the view (which they don't). This was leading to wildly inaccurate and even \"negative\" credit consumption for individual items and users. \n",
    "\n",
    "\n",
    "### Run the following two code blocks to login to ArcGIS Online\n"
   ]
  },
  {
   "cell_type": "code",
   "execution_count": null,
   "metadata": {},
   "outputs": [],
   "source": [
    "# Libraries\n",
    "from arcgis.gis import GIS\n",
    "from datetime import datetime\n",
    "import pandas as pd\n",
    "import math\n",
    "\n",
    "# Get user credentials\n",
    "username = input(\"Please enter your ArcGIS Online username: \")\n",
    "password = input(\"Please enter your password: \")\n",
    "portal = 'https://idwr.maps.arcgis.com'\n",
    "currentDate = datetime.now()\n",
    "\n",
    "# Log into portal\n",
    "gis = GIS(portal, username, password)\n",
    "me = gis.users.me\n",
    "print(\"Logged in to ArcGIS Online as: \")\n",
    "me"
   ]
  },
  {
   "cell_type": "markdown",
   "metadata": {},
   "source": [
    "\n",
    "### Next, define the cost function\n",
    "\n",
    "This function calculates the monthly storage credits spent on an item.\n",
    "\n",
    "This function initially attempted to calculate the lifetime cost of an item. An assumption that an item's size remained constant from creation until the instant the function is called had to be made, but I determined that this was unreliable and unfair. An hourly rate can still be determined from the monthly rate. \n"
   ]
  },
  {
   "cell_type": "code",
   "execution_count": null,
   "metadata": {},
   "outputs": [],
   "source": [
    "# Define functions\n",
    "def estimateItemCreditCost(idForItem):\n",
    "    # Get item info from AGOL \n",
    "    item = gis.content.get(idForItem)\n",
    "    \n",
    "    if item.type == \"Feature Service\":\n",
    "        try:\n",
    "            totalSize = item.size\n",
    "             # Get total size of just feature attachments and calculate credit rate, per size stored\n",
    "            fa = item.layers[0]\n",
    "            attachmentSizeList = []\n",
    "\n",
    "            offsetVals = [0, 1000, 2000, 3000, 4000, 5000]\n",
    "\n",
    "            for val in range(len(offsetVals)):\n",
    "                attachmentList = fa.attachments.search(as_df=False, offset=offsetVals[val])\n",
    "                faSize = sum(each['SIZE'] for each in attachmentList)\n",
    "                attachmentSizeList.append(faSize)\n",
    "        \n",
    "            faSizeGB = round(sum(attachmentSizeList)/(1<<30), 3)\n",
    "  \n",
    "            # Get feature attachment size, credit rate, per size stored to calculate cost\n",
    "            faCreditRate = 1.2\n",
    "            faPerStored = 1\n",
    "            faCost = faCreditRate * (faSizeGB/faPerStored)\n",
    "\n",
    "            # The difference is the size of the feature layer itself, without attachments\n",
    "            flSize = totalSize - sum(attachmentSizeList)\n",
    "            # Get feature layer size, credit rate, per size stored to calculate cost\n",
    "            flSizeMB = round(flSize/(1<<20), 3)\n",
    "            flCreditRate = 2.4\n",
    "            flPerStored = 10\n",
    "            flCost = flCreditRate * (flSizeMB/flPerStored)\n",
    "\n",
    "            itemTotalCost = faCost + flCost\n",
    "            # if itemTotalCost is negative, it is just set to zero. \n",
    "            # This means it's a view, which does not consume any credits.\n",
    "            if itemTotalCost < 0:\n",
    "                itemTotalCost = 0\n",
    "                return itemTotalCost\n",
    "            else:\n",
    "                return itemTotalCost\n",
    "        except:\n",
    "            # Feature layer storage cost equation\n",
    "            size = item.size/(1<<20)\n",
    "            creditRate = 2.4\n",
    "            perStored = 10\n",
    "            itemTotalCost = creditRate * (size/perStored)\n",
    "            return itemTotalCost\n",
    "    else:\n",
    "        # Get item size in GB, credit rate, per GB stored\n",
    "        size = round(item.size/(1<<30), 3)\n",
    "        creditRate = 1.2\n",
    "        perStored = 1\n",
    "        itemTotalCost = creditRate * (size/perStored)\n",
    "        return itemTotalCost"
   ]
  },
  {
   "cell_type": "markdown",
   "metadata": {},
   "source": [
    "\n",
    "### Individual Item\n",
    "\n",
    "#### Run the following block if you would like to calculate the monthly storage cost of an individual item\n",
    "\n",
    "This will prompt you for an item's 32-digit hash ID and then print out credits consumed per month based on the size of the item and the size of the item's attachments (if applicable). The hash ID is used instead of searching by name as it is the best unique identifier for specifying exactly which item you'd like to calculate storage credit costs.\n"
   ]
  },
  {
   "cell_type": "code",
   "execution_count": null,
   "metadata": {},
   "outputs": [],
   "source": [
    "# Identify item whose storage cost you would like to tally\n",
    "\n",
    "cst = estimateItemCreditCost(input(\"Enter the item's 32-digit hash ID: \"))\n",
    "print(\"This item uses \" + str(round(cst, 3)) + \" credits per month.\")"
   ]
  },
  {
   "cell_type": "markdown",
   "metadata": {},
   "source": [
    "\n",
    "### User Items\n",
    "\n",
    "#### Run the following block if you would like to estimate the monthly storage cost of a user's items\n",
    "\n",
    "This will prompt you for an IDWR employee's ArcGIS Online username and print out the number of items they own as well as the credits they consume per month. "
   ]
  },
  {
   "cell_type": "code",
   "execution_count": null,
   "metadata": {},
   "outputs": [],
   "source": [
    "# Identify a user whose storage credit usage you would like to tally\n",
    "userOfInterest = gis.users.get(input(\"Enter the username of a member of your ArcGIS Online Organization: \"))\n",
    "name = userOfInterest.username\n",
    "\n",
    "# Get a list of their stuff\n",
    "itemsList = gis.content.search(query='owner:{}'.format(name), max_items=10000) # Need to set max pretty high, default too low\n",
    "hisStuff = len(itemsList)\n",
    "print(\"User has \" + str(hisStuff) + \" items.\")\n",
    "print(\"Estimating credits used...\")\n",
    "\n",
    "itemIdList = []\n",
    "\n",
    "for i in range(len(itemsList)):\n",
    "    id = itemsList[i].id\n",
    "    itemIdList.append(id)\n",
    "    \n",
    "\n",
    "\n",
    "indivItemCost = []    \n",
    "    \n",
    "for i in range(len(itemIdList)):\n",
    "    ucst = estimateItemCreditCost(itemIdList[i])\n",
    "    indivItemCost.append(ucst)\n",
    "\n",
    "userCost = sum(indivItemCost)\n",
    "    \n",
    "print(name + \" uses \" + str(round(userCost, 3)) + \" credits per month.\")"
   ]
  },
  {
   "cell_type": "markdown",
   "metadata": {},
   "source": [
    "### Item and Storage Cost CSV\n",
    "\n",
    "#### Run to get a CSV of the user's items and their monthly storage costs\n",
    "\n",
    "Run this if you would like a more in-depth breakdown of a user's monthly credit consumption per item. You can take the 32-digit hash ID from the second column to find and view the item in ArcGIS Online. \n"
   ]
  },
  {
   "cell_type": "code",
   "execution_count": null,
   "metadata": {},
   "outputs": [],
   "source": [
    "itemSizeList = []\n",
    "\n",
    "for i in range(len(itemsList)):\n",
    "    iSize = itemsList[i].size\n",
    "    itemSizeList.append(iSize)"
   ]
  },
  {
   "cell_type": "code",
   "execution_count": null,
   "metadata": {},
   "outputs": [],
   "source": [
    "# Spit out CSV for an individual user to look at wonkyness\n",
    "creditById = pd.DataFrame({\n",
    "    'id':itemIdList,\n",
    "    'creditCost':indivItemCost,\n",
    "    'size':itemSizeList\n",
    "})\n",
    "\n",
    "filepath = r\"C:\\Users\\crosner\\Documents\\CC_Out\" # TODO: move this up to an input, near login\n",
    "creditById.to_csv(path_or_buf=filepath+\"/\"+str(name)+\".csv\")\n",
    "print(\"check folder for csv\")"
   ]
  },
  {
   "cell_type": "markdown",
   "metadata": {},
   "source": [
    "### Group Items and Storage Cost CSV\n",
    "\n",
    "#### Run to get amount of credits consumed by a group per month, as well as output a CSV\n",
    "\n",
    "This block operates nearly identically to the above User Items and Item and Storage Cost CSV blocks. \n"
   ]
  },
  {
   "cell_type": "code",
   "execution_count": null,
   "metadata": {},
   "outputs": [],
   "source": [
    "# This block added at Melissa Madden's request, 03 March 2023.\n",
    "\n",
    "# Identify a group whose storage credit usage you would like to tally\n",
    "groupOfInterest = gis.groups.get(input(\"Enter the 32-digit hash ID of a group in your ArcGIS Online Organization: \"))\n",
    "\n",
    "# Get a list of their stuff\n",
    "gItemsList = groupOfInterest.content()\n",
    "groupStuff = len(gItemsList)\n",
    "print(\"Group contains \" + str(groupStuff) + \" items.\")\n",
    "print(\"Estimating credits used...\")\n",
    "\n",
    "gItemIdList = []\n",
    "gItemSizeList = []\n",
    "gItemCost = []  \n",
    "\n",
    "for i in range(len(gItemsList)):\n",
    "    id = gItemsList[i].id\n",
    "    gItemIdList.append(id)\n",
    "    groupItemSize = gItemsList[i].size\n",
    "    gItemSizeList.append(groupItemSize)\n",
    "    gcst = estimateItemCreditCost(gItemIdList[i])\n",
    "    gItemCost.append(gcst)\n",
    "\n",
    "\n",
    "gTotalCost = sum(gItemCost)\n",
    "    \n",
    "print(groupOfInterest.title + \" uses \" + str(round(gTotalCost, 3)) + \" credits per month.\")\n",
    "\n",
    "\n",
    "# Spit out CSV for an individual user to look at wonkyness\n",
    "creditById = pd.DataFrame({\n",
    "    'id':gItemIdList,\n",
    "    'size':gItemSizeList,\n",
    "    'creditCost':gItemCost\n",
    "})\n",
    "\n",
    "filepath = r\"C:\\Users\\crosner\\Documents\\CC_Out\" # TODO: move this up to an input, near login\n",
    "creditById.to_csv(path_or_buf=filepath+\"/\"+str(groupOfInterest.title)+\".csv\")\n",
    "print(\"check folder for csv\")"
   ]
  },
  {
   "cell_type": "code",
   "execution_count": null,
   "metadata": {},
   "outputs": [],
   "source": []
  }
 ],
 "metadata": {
  "kernelspec": {
   "display_name": "ArcGISPro",
   "language": "Python",
   "name": "python3"
  },
  "language_info": {
   "file_extension": ".py",
   "name": "python",
   "version": "3"
  }
 },
 "nbformat": 4,
 "nbformat_minor": 2
}
